{
 "cells": [
  {
   "cell_type": "code",
   "execution_count": 1,
   "metadata": {},
   "outputs": [],
   "source": [
    "import os\n",
    "import requests\n",
    "from bs4 import BeautifulSoup\n",
    "from urllib.parse import urljoin, urlparse\n",
    "from typing import List, Tuple\n",
    "\n",
    "def fetch_page_content(url: str) -> str:\n",
    "    response = requests.get(url)\n",
    "    response.raise_for_status()\n",
    "    return response.text"
   ]
  },
  {
   "cell_type": "code",
   "execution_count": 2,
   "metadata": {},
   "outputs": [],
   "source": [
    "def crawl_website(base_url: str, max_pages: int) -> List[Tuple[str, str]]:\n",
    "    visited = set()\n",
    "    queue = [base_url]\n",
    "    extracted_text = []\n",
    "\n",
    "    while queue and len(extracted_text) < max_pages:\n",
    "        url = queue.pop(0)\n",
    "        if url in visited or len(extracted_text) >= max_pages:\n",
    "            continue\n",
    "        \n",
    "        visited.add(url)\n",
    "        print(f\"Fetching: {url}\")\n",
    "        try:\n",
    "            page_content = fetch_page_content(url)\n",
    "            soup = BeautifulSoup(page_content, 'html.parser')\n",
    "            page_text = soup.get_text()\n",
    "            page_path = urlparse(url).path.strip('/').replace('/', '_')\n",
    "            extracted_text.append((page_path, page_text))\n",
    "\n",
    "            # Find and queue subpages\n",
    "            links = soup.find_all('a', href=True)\n",
    "            for link in links:\n",
    "                absolute_link = urljoin(url, link['href'])\n",
    "                parsed_link = urlparse(absolute_link)\n",
    "                if (parsed_link.netloc == urlparse(base_url).netloc and\n",
    "                    absolute_link not in visited and\n",
    "                    absolute_link not in queue):\n",
    "                    queue.append(absolute_link)\n",
    "\n",
    "        except requests.RequestException as e:\n",
    "            print(f\"Error fetching {url}: {e}\")\n",
    "    \n",
    "    return extracted_text\n",
    "\n"
   ]
  },
  {
   "cell_type": "code",
   "execution_count": 3,
   "metadata": {},
   "outputs": [],
   "source": [
    "def save_text_files(texts: List[Tuple[str, str]], folder: str):\n",
    "    os.makedirs(folder, exist_ok=True)\n",
    "    for i, (path, text) in enumerate(texts):\n",
    "        filename = f\"{path or f'page_{i}'}.txt\"\n",
    "        with open(os.path.join(folder, filename), 'w', encoding='utf-8') as f:\n",
    "            f.write(text)\n",
    "   "
   ]
  },
  {
   "cell_type": "code",
   "execution_count": 6,
   "metadata": {},
   "outputs": [
    {
     "name": "stdout",
     "output_type": "stream",
     "text": [
      "Fetching: https://legacydocs.hubspot.com/docs/methods/forms\n",
      "Error fetching https://legacydocs.hubspot.com/docs/methods/forms: 404 Client Error: Not Found for url: https://legacydocs.hubspot.com/docs/methods/forms\n",
      "Total pages crawled: 0\n"
     ]
    }
   ],
   "source": [
    "base_url = \"https://legacydocs.hubspot.com/docs/methods/forms\"  # Replace with your desired URL\n",
    "max_pages = 1500  # Adjust this value to control the number of pages to crawl\n",
    "output_folder = \"output/langchain_docs\"  # Specify your desired output folder\n",
    "\n",
    "extracted_text = crawl_website(base_url, max_pages)\n",
    "print(f\"Total pages crawled: {len(extracted_text)}\")\n",
    "save_text_files(extracted_text, output_folder)"
   ]
  }
 ],
 "metadata": {
  "kernelspec": {
   "display_name": "kate",
   "language": "python",
   "name": "python3"
  },
  "language_info": {
   "codemirror_mode": {
    "name": "ipython",
    "version": 3
   },
   "file_extension": ".py",
   "mimetype": "text/x-python",
   "name": "python",
   "nbconvert_exporter": "python",
   "pygments_lexer": "ipython3",
   "version": "3.12.6"
  }
 },
 "nbformat": 4,
 "nbformat_minor": 2
}
