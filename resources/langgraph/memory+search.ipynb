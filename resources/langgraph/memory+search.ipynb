{
 "cells": [
  {
   "cell_type": "code",
   "execution_count": 1,
   "metadata": {},
   "outputs": [],
   "source": [
    "from langgraph.checkpoint.memory import MemorySaver\n",
    "\n",
    "memory = MemorySaver()"
   ]
  },
  {
   "cell_type": "code",
   "execution_count": 3,
   "metadata": {},
   "outputs": [
    {
     "name": "stderr",
     "output_type": "stream",
     "text": [
      "c:\\Users\\hmazomba\\miniforge3\\envs\\kate\\Lib\\site-packages\\tqdm\\auto.py:21: TqdmWarning: IProgress not found. Please update jupyter and ipywidgets. See https://ipywidgets.readthedocs.io/en/stable/user_install.html\n",
      "  from .autonotebook import tqdm as notebook_tqdm\n"
     ]
    }
   ],
   "source": [
    "from dotenv import load_dotenv\n",
    "import os\n",
    "from langchain_google_genai import ChatGoogleGenerativeAI\n",
    "# Load environment variables from .env file\n",
    "load_dotenv()\n",
    "\n",
    "\n",
    "google_api__key = os.getenv('GOOGLE_API_KEY')\n",
    "tavily_api__key = os.getenv('TAVILY_API_KEY')\n",
    "\n",
    "\n",
    "llm = ChatGoogleGenerativeAI(model=\"gemini-1.5-pro-exp-0827\")"
   ]
  },
  {
   "cell_type": "code",
   "execution_count": 5,
   "metadata": {},
   "outputs": [
    {
     "name": "stderr",
     "output_type": "stream",
     "text": [
      "Key 'title' is not supported in schema, ignoring\n",
      "Key 'title' is not supported in schema, ignoring\n"
     ]
    },
    {
     "data": {
      "text/plain": [
       "<langgraph.graph.state.StateGraph at 0x18957835460>"
      ]
     },
     "execution_count": 5,
     "metadata": {},
     "output_type": "execute_result"
    }
   ],
   "source": [
    "from typing import Annotated\n",
    "from langchain_community.tools.tavily_search import TavilySearchResults\n",
    "from langchain_core.messages import BaseMessage\n",
    "from typing_extensions import TypedDict\n",
    "\n",
    "from langgraph.graph import StateGraph, START, END\n",
    "from langgraph.graph.message import add_messages\n",
    "from langgraph.prebuilt import ToolNode, tools_condition\n",
    "\n",
    "\n",
    "class State(TypedDict):\n",
    "    messages: Annotated[list, add_messages]\n",
    "\n",
    "\n",
    "graph_builder = StateGraph(State)\n",
    "\n",
    "\n",
    "tool = TavilySearchResults(max_results=2)\n",
    "tools = [tool]\n",
    "llm_with_tools = llm.bind_tools(tools)\n",
    "\n",
    "\n",
    "def chatbot(state: State):\n",
    "    return {\"messages\": [llm_with_tools.invoke(state[\"messages\"])]}\n",
    "\n",
    "\n",
    "graph_builder.add_node(\"chatbot\", chatbot)\n",
    "\n",
    "tool_node = ToolNode(tools=[tool])\n",
    "graph_builder.add_node(\"tools\", tool_node)\n",
    "\n",
    "graph_builder.add_conditional_edges(\n",
    "    \"chatbot\",\n",
    "    tools_condition,\n",
    ")\n",
    "# Any time a tool is called, we return to the chatbot to decide the next step\n",
    "graph_builder.add_edge(\"tools\", \"chatbot\")\n",
    "graph_builder.add_edge(START, \"chatbot\")"
   ]
  },
  {
   "cell_type": "code",
   "execution_count": 6,
   "metadata": {},
   "outputs": [],
   "source": [
    "graph = graph_builder.compile(checkpointer=memory)"
   ]
  },
  {
   "cell_type": "code",
   "execution_count": 7,
   "metadata": {},
   "outputs": [
    {
     "data": {
      "image/jpeg": "[encoded data removed]",
      "text/plain": [
       "<IPython.core.display.Image object>"
      ]
     },
     "metadata": {},
     "output_type": "display_data"
    }
   ],
   "source": [
    "from IPython.display import Image, display\n",
    "\n",
    "try:\n",
    "    display(Image(graph.get_graph().draw_mermaid_png()))\n",
    "except Exception:\n",
    "    # This requires some extra dependencies and is optional\n",
    "    pass"
   ]
  },
  {
   "cell_type": "code",
   "execution_count": 8,
   "metadata": {},
   "outputs": [],
   "source": [
    "config = {\"configurable\": {\"thread_id\": \"1\"}}"
   ]
  },
  {
   "cell_type": "code",
   "execution_count": 9,
   "metadata": {},
   "outputs": [
    {
     "name": "stdout",
     "output_type": "stream",
     "text": [
      "================================\u001b[1m Human Message \u001b[0m=================================\n",
      "\n",
      "Hi there! My name is Will.\n",
      "==================================\u001b[1m Ai Message \u001b[0m==================================\n",
      "\n",
      "Hi Will, it's nice to meet you! How can I help you today?\n"
     ]
    }
   ],
   "source": [
    "user_input = \"Hi there! My name is Will.\"\n",
    "\n",
    "# The config is the **second positional argument** to stream() or invoke()!\n",
    "events = graph.stream(\n",
    "    {\"messages\": [(\"user\", user_input)]}, config, stream_mode=\"values\"\n",
    ")\n",
    "for event in events:\n",
    "    event[\"messages\"][-1].pretty_print()"
   ]
  },
  {
   "cell_type": "code",
   "execution_count": 10,
   "metadata": {},
   "outputs": [
    {
     "name": "stdout",
     "output_type": "stream",
     "text": [
      "================================\u001b[1m Human Message \u001b[0m=================================\n",
      "\n",
      "What are neutrinos?\n",
      "==================================\u001b[1m Ai Message \u001b[0m==================================\n",
      "Tool Calls:\n",
      "  tavily_search_results_json (680b0e52-ddc0-42de-a932-6198c6dd6ecb)\n",
      " Call ID: 680b0e52-ddc0-42de-a932-6198c6dd6ecb\n",
      "  Args:\n",
      "    query: What are neutrinos?\n",
      "=================================\u001b[1m Tool Message \u001b[0m=================================\n",
      "Name: tavily_search_results_json\n",
      "\n",
      "[{\"url\": \"https://www.pbs.org/newshour/science/what-is-a-neutrino-and-why-should-anyone-but-a-particle-physicist-care\", \"content\": \"Neutrinos are nearly massless, chargeless particles that travel at near lightspeeds and are abundant in the universe. They are produced by nuclear fusion in the sun and may help explain why the universe is made of matter, not antimatter.\"}, {\"url\": \"https://www.space.com/what-are-neutrinos\", \"content\": \"Neutrinos are tiny subatomic particles, often called 'ghost particles' because they barely interact with anything else. Neutrinos are, however, the most common particle in the universe. Believe it ...\"}]\n",
      "==================================\u001b[1m Ai Message \u001b[0m==================================\n",
      "\n",
      "Neutrinos are subatomic particles that are very light, have no electric charge and travel at nearly the speed of light. They are incredibly abundant in the universe but rarely interact with other matter, which is why they're often called \"ghost particles\".\n",
      "\n",
      "Here are some key takeaways about neutrinos:\n",
      "\n",
      "* **Nearly massless and chargeless:** They have a tiny amount of mass, much less than other subatomic particles like electrons or protons, and they don't carry an electric charge.\n",
      "* **Travel at near lightspeeds:** They zip through the universe at speeds close to the speed of light.\n",
      "* **Abundant in the universe:** They are produced in vast quantities by nuclear reactions, such as those happening in the sun. \n",
      "* **Rarely interact with matter:** They can pass through most matter without leaving a trace, making them difficult to detect.\n",
      "* **May explain matter-antimatter asymmetry:** Scientists believe neutrinos might help explain why the universe is predominantly made of matter and not antimatter.\n",
      "\n",
      "Is there anything else you'd like to know about neutrinos or any other topic? I'm here to help!\n"
     ]
    }
   ],
   "source": [
    "user_input = \"What are neutrinos?\"\n",
    "\n",
    "# The config is the **second positional argument** to stream() or invoke()!\n",
    "events = graph.stream(\n",
    "    {\"messages\": [(\"user\", user_input)]}, config, stream_mode=\"values\"\n",
    ")\n",
    "for event in events:\n",
    "    event[\"messages\"][-1].pretty_print()"
   ]
  },
  {
   "cell_type": "code",
   "execution_count": 11,
   "metadata": {},
   "outputs": [
    {
     "name": "stdout",
     "output_type": "stream",
     "text": [
      "================================\u001b[1m Human Message \u001b[0m=================================\n",
      "\n",
      "Gimme the latest tech news of this week\n",
      "==================================\u001b[1m Ai Message \u001b[0m==================================\n",
      "Tool Calls:\n",
      "  tavily_search_results_json (01d8d840-c992-4bbf-b7dd-79846797f581)\n",
      " Call ID: 01d8d840-c992-4bbf-b7dd-79846797f581\n",
      "  Args:\n",
      "    query: Latest tech news this week\n",
      "=================================\u001b[1m Tool Message \u001b[0m=================================\n",
      "Name: tavily_search_results_json\n",
      "\n",
      "[{\"url\": \"https://apnews.com/technology\", \"content\": \"Hint: Be true to yourself\\nArtificial Intelligence\\nArtificial intelligence technology behind ChatGPT was built in Iowa — with a lot of water\\nThis week’s turmoil with ChatGPT-maker OpenAI has heightened trust concerns in the AI world\\nOpenAI brings back Sam Altman as CEO just days after his firing unleashed chaos\\nWhat you need to know about Emmett Shear, OpenAI’s new interim CEO\\nInsider Q&A: Pentagon AI chief on network-centric warfare, generative AI challenges\\nGoogle antitrust trial\\nMicrosoft CEO says unfair practices by Google led to its dominance as a search engine\\nApple exec defends the decision to make Google its default search engine on iPhones and Macs\\nDuckDuckGo founder says Google’s phone and manufacturing partnerships thwart competition\\nCalifornia settles with Google over location privacy practices for $93 million\\nLeaving Google’s search engine isn’t easy, government witness says in antitrust case\\nGoogle exploited exclusive search engine deals to maintain its advantage over rivals, DOJ argues\\nGoogle’s search engine dominance is at the center of the biggest US antitrust trial in decades\\nLatest news\\nCourt document claims Meta knowingly designed its platforms to hook kids, reports say\\nRussia puts the spokesman for Facebook owner Meta on a wanted list\\nPentagon’s Israel-Hamas war\\nSonny Gray\\nWord of the year\\nElon Musk\\nFrank Reich\\nTechnology\\nElon Musk visits Israel to meet top leaders as accusations of antisemitism on X grow\\nParis mayor says she’s quitting Elon Musk’s ‘global sewer’ platform X as city gears up for Olympics\\nGoogle will start deleting ‘inactive’ accounts in December. Here’s what you need to know\\nEU regulators say Amazon’s acquisition of vacuum maker iRobot may harm competition\\nWhat’s Merriam-Webster’s word of the year for 2023? AI initiatives accelerate hard decisions on lethal autonomous weapons\\nNissan will invest $1.4 billion to make EV versions of its best-selling cars at its UK factory\\nCopyright 2023 The Associated Press. All Rights Reserved.\\n\"}, {\"url\": \"https://www.geekwire.com/\", \"content\": \"Microsoft will never again get blindsided by OpenAI board if Sam Altman returns\\nby Todd Bishop on November 21, 2023November 21, 2023 at 2:45 pm\\nThe OpenAI saga appears to be in a holding pattern, at least for the moment, as hundreds of employees threaten to leave en masse if the board doesn’t resign and… Read More\\nSeattle tech vet applies design, communications experience in seeking safer city streets\\nby Kurt Schlosser on November 21, 2023November 21, 2023 at 8:05 am\\nDrawing on his expertise in communications and human centered design, Seattle technology veteran Josh Holland is now working for Seattle Neighborhood Greenways, a nonprofit working to make city streets a… Read More\\nHealth Tech/Life Sciences\\nNanoString stock sinks nearly 50% after losing patent lawsuit case against 10x Genomics\\nAdaptive Biotech hires Goldman Sachs to explore ‘strategic alternatives’ for key business lines\\nAllen Frontiers Group awards $10M to set up research center for neuroimmunology\\nAdaptX raises $10M to expand its AI-driven medical data analysis for healthcare providers\\nRead more health technology and life sciences articles on Health Tech/Life Sciences.\\nExpanso, a distributed data processing startup led by Google and Microsoft vets, raises $7.5M\\nby Taylor Soper on November 21, 2023November 21, 2023 at 7:24 am\\nSeattle startup Expanso raised a $7.5 million seed round co-led by General Catalyst and Hetz Ventures to fuel growth of its software that provides data infrastructure capabilities at the “edge.”\\n They will… Read More\\nBinance CEO pleads guilty in Seattle as federal prosecutors secure record $4.3B crypto penalty\\nby Taylor Soper & Todd Bishop on November 21, 2023November 22, 2023 at 10:14 am\\nThe federal courthouse in Seattle was the scene of a pivotal event in the U.S. government’s crypto crackdown Tuesday as prosecutors cemented a settlement in a landmark case against the… Read More\\nFun & Geeky\\nBill Gates offers his recommendations for what to read, watch and listen to during the holidays\\nHot new electric vehicles at Seattle Auto Show highlight an industry that isn’t slowing down\\nAmazon is helping a longtime Seattle art school move into modern space at base of HQ building\\n‘I’m looking forward to being Mrs. Bezos’: Vogue profiles Lauren Sanchez’s life with Amazon founder\\nFor more fun & geeky stuff, check out Geek Life.\\n Download for the holidays: New app aims to help gift givers and receivers make a better connection\\nby Kurt Schlosser on November 22, 2023November 22, 2023 at 8:19 am\\nIf you’re headed out to start your holiday gift shopping on Black Friday, or you’re excited about what gifts might be coming your way this season, a new company called… Read More\\nSeattle passes new law that creates 10-cent per-order fee for app-based deliveries and services\\nby Taylor Soper on November 22, 2023November 22, 2023 at 8:50 am\\nCompanies such as DoorDash and Grubhub will be required to pay a 10-cent per-order fee for online deliveries in Seattle starting in 2025, following the passage of a new law… Read More\\nUncommon Thinkers: For USAFacts’ Poppy MacDonald, ‘facts are paramount’ for democracy\\nby Lisa Stiffler on November 22, 2023November 22, 2023 at 8:28 am\\nEditor’s note:  The veteran Seattle entrepreneur co-founded Isilon Systems in 2001, helped take the storage company public five years later, maneuvered it… Read More\\nInternal memo: Amazon will cut ‘several hundred’ Alexa jobs as it ends unspecified initiatives\\nby Todd Bishop on November 17, 2023November 17, 2023 at 10:30 am\\nAmazon will eliminate several hundred roles in its Alexa division as part of a broader shift in priorities and a focus on developing new forms of artificial intelligence, according to… Read More\\nCar industry analyst: Amazon’s move into vehicle sales ‘just makes sense’\\nby Taylor Soper & Kurt Schlosser on November 16, 2023November 16, 2023 at 2:09 pm\\nAmazon caused a spark in the car industry Thursday, announcing a new deal with Hyundai to let customers buy cars on the tech giant’s online marketplace for the first time.… With Satya Nadella’s… Read More\\nOpenAI taps Twitch co-founder Emmett Shear as interim CEO\\nby Taylor Soper on November 19, 2023November 20, 2023 at 7:46 am\\nEmmett Shear, the co-founder and former CEO of Twitch, has reportedly been named interim CEO at OpenAI, the latest turn in a wildly dramatic weekend for the ChatGPT-maker following the… Read More\\nWeek in Review: Most popular stories on GeekWire for the week of Nov. 12, 2023\\nby GeekWire on November 19, 2023November 19, 2023 at 8:00 am\\nSee the technology stories that people were reading on GeekWire for the week of Nov. 12, 2023.…\"}]\n",
      "==================================\u001b[1m Ai Message \u001b[0m==================================\n",
      "\n",
      "This week has been a whirlwind in the tech world, with several major stories dominating the headlines. Here's a summary of the biggest tech news:\n",
      "\n",
      "**OpenAI Drama:**\n",
      "\n",
      "* **Sam Altman's dramatic return:**  OpenAI's CEO Sam Altman was unexpectedly fired, leading to a mass resignation threat from employees and a board shakeup. Ultimately, Altman was reinstated as CEO. This saga highlights the tensions and power struggles within the rapidly evolving field of AI.\n",
      "* **Emmett Shear steps in as interim CEO:** Twitch co-founder Emmett Shear was briefly appointed interim CEO during the turmoil.\n",
      "\n",
      "**AI Developments:**\n",
      "\n",
      "* **AI's role in warfare:**  Discussions around the use of AI in warfare are intensifying, with the Pentagon's AI chief highlighting both the potential and the challenges of AI in network-centric warfare.\n",
      "* **Merriam-Webster's word of the year highlights AI's impact:** The word \"authentic\" was chosen, reflecting concerns about AI's ability to generate realistic but fake content.\n",
      "\n",
      "**Other Tech News:**\n",
      "\n",
      "* **Google's antitrust trial:** The trial against Google is underway, with accusations of the company using unfair practices to maintain its dominance in search. Microsoft's CEO testified against Google, while Apple defended its decision to make Google the default search engine on its devices.\n",
      "* **Meta under scrutiny:** Meta (Facebook's parent company) is facing accusations of knowingly designing its platforms to be addictive for children. Russia has also put Meta's spokesman on a wanted list.\n",
      "* **Amazon's moves:** Amazon announced it will start deleting inactive accounts in December and is reportedly cutting jobs in its Alexa division. The company also made a move into vehicle sales through a partnership with Hyundai.\n",
      "* **EU investigates Amazon's iRobot acquisition:**  Regulators are concerned the deal could harm competition in the robot vacuum market.\n",
      "\n",
      "**In addition to these major stories, other notable news includes:**\n",
      "\n",
      "* Nissan's investment in UK EV production\n",
      "* Seattle's new fee on app-based deliveries\n",
      "* Binance CEO's guilty plea in a crypto case\n",
      "\n",
      "This is just a brief overview of the bustling tech news landscape this week. For more details, you can check out the links provided in the search results or explore other tech news sources.\n"
     ]
    }
   ],
   "source": [
    "user_input = \"Gimme the latest tech news of this week\"\n",
    "\n",
    "# The config is the **second positional argument** to stream() or invoke()!\n",
    "events = graph.stream(\n",
    "    {\"messages\": [(\"user\", user_input)]}, config, stream_mode=\"values\"\n",
    ")\n",
    "for event in events:\n",
    "    event[\"messages\"][-1].pretty_print()"
   ]
  },
  {
   "cell_type": "code",
   "execution_count": 12,
   "metadata": {},
   "outputs": [
    {
     "name": "stdout",
     "output_type": "stream",
     "text": [
      "================================\u001b[1m Human Message \u001b[0m=================================\n",
      "\n",
      "Is Odin a trinity?\n",
      "==================================\u001b[1m Ai Message \u001b[0m==================================\n",
      "Tool Calls:\n",
      "  tavily_search_results_json (82338bf4-59fe-4c7e-b9d2-21053e5871ac)\n",
      " Call ID: 82338bf4-59fe-4c7e-b9d2-21053e5871ac\n",
      "  Args:\n",
      "    query: Is Odin a trinity?\n",
      "=================================\u001b[1m Tool Message \u001b[0m=================================\n",
      "Name: tavily_search_results_json\n",
      "\n",
      "[{\"url\": \"https://viking.style/the-norse-trinity-understanding-the-sacred-triad/\", \"content\": \"Comprising Odin, Thor, and Freyr, the Norse Trinity holds a significant place in Norse mythology, and each deity plays a crucial role in the Norse cosmos. The Norse Trinity emerged as the primary deities within Asgard, with Odin, Thor, and Freyr playing crucial roles in the Norse cosmos. The Norse Trinity, composed of Odin, Thor, and Freyr, is a sacred triad that highlights the interdependency of these three deities in ancient Norse mythology. A: The Norse Trinity, also known as the Sacred Triad, refers to the three primary deities in ancient Norse mythology: Odin, Thor, and Freyr. A: In this article, we have explored the concept of the Norse Trinity, the roles of Odin, Thor, and Freyr in ancient Norse mythology, and their lasting impact on Norse culture.\"}, {\"url\": \"https://en.wikipedia.org/wiki/Odin\", \"content\": \"Fine art depictions of Odin in the modern period include the pen and ink drawing Odin byggande Sigtuna (1812) and the sketch King Gylfe receives Oden on his arrival to Sweden (1816) by Pehr Hörberg; the drinking horn relief Odens möte med Gylfe (1818), the marble statue Odin (1830) and the colossal bust Odin by Bengt Erland Fogelberg, the statues Odin (1812/1822) and Odin (1824/1825) by Hermann Ernst Freund, the sgraffito over the entrance of Villa Wahnfried in Bayreuth (1874) by R. Krausse, the painting Odin (around 1880) by Edward Burne-Jones, the drawing Thor und Magni (1883) by K. Ehrenberg, the marble statue Wodan (around 1887) by H. Natter, the oil painting Odin und Brunhilde (1890) by Konrad Dielitz, the graphic drawing Odin als Kriegsgott (1896) by Hans Thoma, the painting Odin and Fenris (around 1900) by Dorothy Hardy, the oil painting Wotan und Brünhilde (1914) by Koloman Moser, the painting The Road to Walhall by S. Nilsson, the wooden Oslo City Hall relief Odin og Mime (1938) and the coloured wooden relief in the courtyard of the Oslo City Hall Odin på Sleipnir (1945–1950) by Dagfin Werenskiold, and the bronze relief on the doors of the Swedish Museum of National Antiquities, Odin (1950) by Bror Marklund.[93]\\nWorks of modern literature featuring Odin include the poem Der Wein (1745) by Friedrich von Hagedorn, Hymne de Wodan (1769) by Friedrich Gottlieb Klopstock, Om Odin (1771) by Peter Frederik Suhm, the tragedy Odin eller Asarnes invandring by K. G. Leopold, the epic poem Odin eller Danrigets Stiftelse (1803) by Jens Baggesen, the poem Maskeradenball (1803) and Optrin af Norners og Asers Kamp: He notes that \\\"similar depictions occur everywhere the Vikings went—from eastern England to Russia and naturally also in the rest of Scandinavia.\\\"[77]\\nA portion of Thorwald's Cross (a partly surviving runestone erected at Kirk Andreas on the Isle of Man) depicts a bearded human holding a spear downward at a wolf, his right foot in its mouth, and a large bird on his shoulder.[78] Andy Orchard comments that this bird may be either Huginn or Muninn.[79] Rundata dates the cross to 940,[80] while Pluskowski dates it to the 11th century.[78] This depiction has been interpreted as Odin, with a raven or eagle at his shoulder, being consumed by the monstrous wolf Fenrir during the events of Ragnarök.[78][81]\\nThe 11th century Ledberg stone in Sweden, similarly to Thorwald's Cross, features a figure with his foot at the mouth of a four-legged beast, and this may also be a depiction of Odin being devoured by Fenrir at Ragnarök.[81] Regarding the Germanic peoples, Caesar states: \\\"[T]hey consider the gods only the ones that they can see, the Sun, Fire and the Moon\\\", which scholars reject as clearly mistaken, regardless of what may have led to the statement.[24]\\nThere is no direct, undisputed evidence for the worship of Odin/Mercury among the Goths, and the existence of a cult of Odin among them is debated.[26] Richard North and Herwig Wolfram have both argued that the Goths did not worship Odin, Wolfram contending that the use of Greek names of the week in Gothic provides evidence of that.[27] The völva says that the two were capable of very little, lacking in ørlög and says that they were given three gifts by the three gods:\\nThe meaning of these gifts has been a matter of scholarly disagreement and translations therefore vary.[46]\\nLater in the poem, the völva recounts the events of the Æsir–Vanir War, the war between Vanir and the Æsir, two groups of gods. This was influenced by an embellished list of rulers invented by Johannes Magnus.[88]\\nUnder the trifunctional hypothesis of Georges Dumézil, Odin is assigned one of the core functions in the Indo-European pantheon as a representative of the first function (sovereignty) corresponding to the Hindu Varuṇa (fury and magic) as opposed to Týr, who corresponds to the Hindu Mitrá (law and justice); while the Vanir represent the third function (fertility).[89][90]\\nAnother approach to Odin has been in terms of his function and attributes.\"}]\n",
      "==================================\u001b[1m Ai Message \u001b[0m==================================\n",
      "\n",
      "No, Odin is not typically considered a trinity in Norse mythology. Although he is a very powerful and complex deity with many aspects, he is a singular god. \n",
      "\n",
      "The concept of a trinity, where three distinct beings are united as one God, is more commonly associated with Christianity (Father, Son, and Holy Spirit).\n",
      "\n",
      "However, there are some ways to think about Odin in a threefold way:\n",
      "\n",
      "* **The Three Norns:** Odin is closely associated with the Norns, three female beings who control fate. They could be seen as representing aspects of Odin's power.\n",
      "* **Odin's Multiple Names and Roles:** Odin has many names and takes on different roles, such as god of wisdom, war, magic, and poetry. These could be seen as different facets of a single divine being.\n",
      "* **Theories of a Norse Trinity:** Some scholars have proposed that there might have been a concept of a Norse trinity involving Odin, Thor, and Freyr, but this isn't widely accepted.\n",
      "\n",
      "It's important to remember that Norse mythology is complex and interpretations can vary. While Odin isn't a trinity in the traditional sense, his multifaceted nature and associations with other beings could be seen as reflecting a threefold aspect. \n",
      "\n",
      "Do you have any other questions about Odin or Norse Mythology? I'm happy to explore this fascinating topic further with you!\n"
     ]
    }
   ],
   "source": [
    "user_input = \"Is Odin a trinity?\"\n",
    "\n",
    "# The config is the **second positional argument** to stream() or invoke()!\n",
    "events = graph.stream(\n",
    "    {\"messages\": [(\"user\", user_input)]}, config, stream_mode=\"values\"\n",
    ")\n",
    "for event in events:\n",
    "    event[\"messages\"][-1].pretty_print()"
   ]
  }
 ],
 "metadata": {
  "kernelspec": {
   "display_name": "kate",
   "language": "python",
   "name": "python3"
  },
  "language_info": {
   "codemirror_mode": {
    "name": "ipython",
    "version": 3
   },
   "file_extension": ".py",
   "mimetype": "text/x-python",
   "name": "python",
   "nbconvert_exporter": "python",
   "pygments_lexer": "ipython3",
   "version": "3.12.6"
  }
 },
 "nbformat": 4,
 "nbformat_minor": 2
}
